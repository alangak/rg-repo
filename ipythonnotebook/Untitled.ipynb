{
 "cells": [
  {
   "cell_type": "code",
   "execution_count": 12,
   "metadata": {},
   "outputs": [
    {
     "name": "stdout",
     "output_type": "stream",
     "text": [
      "True\n"
     ]
    }
   ],
   "source": [
    "import re\n",
    "txt=\"The rain in Spain\"\n",
    "x=re.search(\"^The.*Spain$\",txt)     #  \"^\" this is for start , \".*\" for 0 or more repetitions,\"$\" to end\n",
    "if(x):\n",
    "    print(True)\n",
    "else:\n",
    "    print(False)"
   ]
  },
  {
   "cell_type": "code",
   "execution_count": 24,
   "metadata": {},
   "outputs": [
    {
     "name": "stdout",
     "output_type": "stream",
     "text": [
      "a#####d@efgh.com\n"
     ]
    }
   ],
   "source": [
    "#mask email\n",
    "#convert email for ex \"abcd@efgh.com\" as \"a#####d@efgh.com\"\n",
    "s=\"abcd@efgh.com\"\n",
    "def maskEmail(s):\n",
    "    if \"@\" in s:\n",
    "        \n",
    "        name,domain=s.split(\"@\")\n",
    "        return(\"{0}#####{1}@{2}\".format(name[0],name[-1],domain))\n",
    "print(maskEmail(s))"
   ]
  },
  {
   "cell_type": "code",
   "execution_count": null,
   "metadata": {},
   "outputs": [],
   "source": []
  }
 ],
 "metadata": {
  "kernelspec": {
   "display_name": "Python 3",
   "language": "python",
   "name": "python3"
  },
  "language_info": {
   "codemirror_mode": {
    "name": "ipython",
    "version": 3
   },
   "file_extension": ".py",
   "mimetype": "text/x-python",
   "name": "python",
   "nbconvert_exporter": "python",
   "pygments_lexer": "ipython3",
   "version": "3.7.4"
  }
 },
 "nbformat": 4,
 "nbformat_minor": 2
}
